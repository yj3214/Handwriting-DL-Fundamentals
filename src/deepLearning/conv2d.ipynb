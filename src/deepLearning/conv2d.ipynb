{
 "cells": [
  {
   "cell_type": "code",
   "execution_count": 71,
   "metadata": {},
   "outputs": [],
   "source": [
    "import math\n",
    "import torch\n",
    "from torch.nn.functional import conv2d"
   ]
  },
  {
   "cell_type": "code",
   "execution_count": 72,
   "metadata": {},
   "outputs": [],
   "source": [
    "inputs = torch.randn(size = (2, 5, 5)) # （in_channel, H, W）\n",
    "kernels = torch.randn(size = (3, 2, 3, 3)) # (out_channel, in_channel, kernel_size, kernel_size)\n",
    "bias = torch.randn(3) #卷积偏置,输出通道数"
   ]
  },
  {
   "cell_type": "code",
   "execution_count": 73,
   "metadata": {},
   "outputs": [
    {
     "name": "stdout",
     "output_type": "stream",
     "text": [
      "True\n"
     ]
    }
   ],
   "source": [
    "def to_numpy(tensor):\n",
    "    return tensor.detach().cpu().numpy() if tensor.requires_grad else tensor.cpu().numpy()\n",
    "\n",
    "def matrix_conv2d(inputs, kernels, stride=1, padding=0, bias=None):\n",
    "    \"\"\"\n",
    "    简单实现torch.nn.functional.conv2d\n",
    "    \"\"\"\n",
    "    if padding:\n",
    "        inputs = torch.nn.functional.pad(inputs, (padding, padding, padding, padding))\n",
    "    in_channel, input_h, input_w = inputs.shape\n",
    "    out_channel, _, kernel_h, kernel_w = kernels.shape\n",
    "    \n",
    "    output_h = math.floor((input_h - kernel_h) / stride) + 1 #计算输出特征图的shape\n",
    "    output_w = math.floor((input_w - kernel_w) / stride) + 1\n",
    "    \n",
    "    output = torch.zeros(size=(out_channel, output_h, output_w)) # 初始化输出特征图\n",
    "    \n",
    "    for group in range(out_channel):\n",
    "        group_kernel = kernels[group]\n",
    "        out_ = torch.zeros(size=(in_channel, output_h, output_w)) #临时存放结果\n",
    "        for item in range(in_channel):\n",
    "            kernel = group_kernel[item]\n",
    "            input_ = inputs[item]\n",
    "            for i in range(0, input_h - kernel_h + 1, stride):\n",
    "                for j in range(0, input_w - kernel_w + 1, stride):\n",
    "                    region = input_[i:i+kernel_h, j:j+kernel_w]\n",
    "                    out_[item,int(i/stride), int(j/stride)] = torch.sum(region * kernel) \n",
    "        if bias is not None:    \n",
    "            output[group, :, :] = torch.sum(out_, dim=0) + bias[group]\n",
    "        else:\n",
    "            output[group, :, :] = torch.sum(out_, dim=0)\n",
    "    \n",
    "    return output\n",
    "\n",
    "out = matrix_conv2d(inputs, kernels, bias=bias) # 手写卷积的输出\n",
    "\n",
    "torch_api_input = inputs.unsqueeze(0)\n",
    "torch_api_weight = kernels\n",
    "torch_api_out = conv2d(torch_api_input, torch_api_weight, bias=bias) # torch api的输出\n",
    "# 判断输出结果是否一致，小数点后3位一致即可\n",
    "print(torch.allclose(out, torch_api_out, rtol=1e-3))\n",
    "            \n",
    "    "
   ]
  }
 ],
 "metadata": {
  "kernelspec": {
   "display_name": "diffusers",
   "language": "python",
   "name": "python3"
  },
  "language_info": {
   "codemirror_mode": {
    "name": "ipython",
    "version": 3
   },
   "file_extension": ".py",
   "mimetype": "text/x-python",
   "name": "python",
   "nbconvert_exporter": "python",
   "pygments_lexer": "ipython3",
   "version": "3.8.18"
  }
 },
 "nbformat": 4,
 "nbformat_minor": 2
}
