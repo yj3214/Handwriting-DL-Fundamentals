{
 "cells": [
  {
   "cell_type": "code",
   "execution_count": 11,
   "metadata": {},
   "outputs": [],
   "source": [
    "import torch\n",
    "import torch.nn as nn"
   ]
  },
  {
   "cell_type": "code",
   "execution_count": 23,
   "metadata": {},
   "outputs": [
    {
     "name": "stdout",
     "output_type": "stream",
     "text": [
      "True\n"
     ]
    }
   ],
   "source": [
    "channel = 3\n",
    "batch = 1\n",
    "height = width = 3\n",
    "\n",
    "#########nn.BatchNorm2d()###########\n",
    "# 使用torch中的api实现\n",
    "input = torch.randn((batch, channel, height, width))\n",
    "batchnorm_api = nn.BatchNorm2d(channel, affine=False)\n",
    "api_out = batchnorm_api(input)\n",
    "\n",
    "# 手写实现\n",
    "mean = input.mean(dim=(0, 2, 3), keepdim=True) #calculated per-dimension over the mini-batches\n",
    "std = torch.sqrt(input.var(dim=(0, 2, 3), unbiased=False, keepdim=True) + 1e-5)\n",
    "out = (input - mean) / std\n",
    "print(torch.allclose(api_out, out, rtol=1e-5))"
   ]
  },
  {
   "cell_type": "code",
   "execution_count": 29,
   "metadata": {},
   "outputs": [
    {
     "name": "stdout",
     "output_type": "stream",
     "text": [
      "True\n"
     ]
    }
   ],
   "source": [
    "##############nn.layerNorm()############\n",
    "# torch的api调用\n",
    "input = input.permute(0,2,3,1) # 把channel维度放在最后一维\n",
    "layernorm_api = nn.LayerNorm(channel, elementwise_affine=False)\n",
    "api_out = layernorm_api(input)\n",
    "\n",
    "# 手写实现\n",
    "mean = input.mean(dim=-1, keepdim=True) # calculated over the last D dimensions\n",
    "std = torch.sqrt(input.var(dim=-1, unbiased=False, keepdim=True) + 1e-5)\n",
    "out = (input - mean) / std\n",
    "print(torch.allclose(api_out, out))"
   ]
  },
  {
   "cell_type": "code",
   "execution_count": 31,
   "metadata": {},
   "outputs": [
    {
     "name": "stdout",
     "output_type": "stream",
     "text": [
      "True\n"
     ]
    }
   ],
   "source": [
    "##############nn.InstanceNorm()############\n",
    "#torch的api调用\n",
    "instance_norm = nn.InstanceNorm2d(channel)\n",
    "api_out = instance_norm(input)\n",
    "\n",
    "# 手写实现\n",
    "mean = input.mean(dim=(-2, -1), keepdim=True) # calculated per-dimension separately for each object in a mini-batch. \n",
    "std = torch.sqrt(input.var(dim=(-2, -1), unbiased=False, keepdim=True) + 1e-5)\n",
    "out = (input - mean) / std\n",
    "print(torch.allclose(api_out, out))"
   ]
  }
 ],
 "metadata": {
  "kernelspec": {
   "display_name": "diffusers",
   "language": "python",
   "name": "python3"
  },
  "language_info": {
   "codemirror_mode": {
    "name": "ipython",
    "version": 3
   },
   "file_extension": ".py",
   "mimetype": "text/x-python",
   "name": "python",
   "nbconvert_exporter": "python",
   "pygments_lexer": "ipython3",
   "version": "3.8.18"
  }
 },
 "nbformat": 4,
 "nbformat_minor": 2
}
