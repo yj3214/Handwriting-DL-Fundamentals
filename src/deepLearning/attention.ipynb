{
 "cells": [
  {
   "cell_type": "code",
   "execution_count": 2,
   "metadata": {},
   "outputs": [],
   "source": [
    "import torch\n",
    "import torch.nn as nn\n",
    "import torch.nn.functional as F"
   ]
  },
  {
   "cell_type": "code",
   "execution_count": 34,
   "metadata": {},
   "outputs": [],
   "source": [
    "class MutiHeadSelfAttention(nn.Module):\n",
    "    def __init__(self, n_dim: int=768, n_head: int=8, attn_dropout: float=0.1):   \n",
    "        super().__init__()\n",
    "        self.n_dim = n_dim\n",
    "        self.n_head = n_head\n",
    "        self.c_attn = nn.Linear(n_dim, 3 * n_dim)\n",
    "        self.c_dropout = nn.Dropout(attn_dropout)\n",
    "        \n",
    "        self.proj = nn.Linear(n_dim, n_dim)\n",
    "        self.resid_dropout = nn.Dropout(attn_dropout)\n",
    "    \n",
    "    def forward(self, x, mask=False):\n",
    "        B, T, C = x.shape\n",
    "        \n",
    "        q, k, v = self.c_attn(x).split(self.n_dim, 2)\n",
    "        q = q.view(B, T, self.n_head, self.n_dim // self.n_head).transpose(1, 2) #(B, nh, T, nd)\n",
    "        k = k.view(B, T, self.n_head, self.n_dim // self.n_head).transpose(1, 2) #(B, nh, T, nd)\n",
    "        v = v.view(B, T, self.n_head, self.n_dim // self.n_head).transpose(1, 2) #(B, nh, T, nd)\n",
    "        \n",
    "        attn = (q @ k.transpose(-2, -1)) * (1.0 / torch.sqrt(torch.tensor(k.shape[-1])))\n",
    "        if mask:\n",
    "            masked = torch.tril(torch.ones(T, T, dtype=bool))\n",
    "            attn = attn.masked_fill(masked == 0, float('-inf'))\n",
    "            print(attn)\n",
    "        attn = F.softmax(attn, dim=-1)\n",
    "        attn = self.c_dropout(attn)\n",
    "        out = attn @ v #(B, nh, T, T) x (B, nh, T, nd) = (B, nh, T, nh)\n",
    "        \n",
    "        out = out.transpose(1, 2).contiguous().view(B, T, C)\n",
    "        out = self.resid_dropout(self.proj(out))\n",
    "        return out\n",
    "        "
   ]
  },
  {
   "cell_type": "code",
   "execution_count": 35,
   "metadata": {},
   "outputs": [
    {
     "name": "stdout",
     "output_type": "stream",
     "text": [
      "tensor([[[[0.0170,   -inf,   -inf],\n",
      "          [0.2533, 0.1607,   -inf],\n",
      "          [0.2029, 0.2582, 1.0119]]]], grad_fn=<MaskedFillBackward0>)\n",
      "torch.Size([1, 3, 5])\n"
     ]
    }
   ],
   "source": [
    "x = torch.randn((1, 3, 5))\n",
    "attention = MutiHeadSelfAttention(n_head=1, n_dim=5)\n",
    "out = attention(x, mask=True)\n",
    "print(out.shape)"
   ]
  }
 ],
 "metadata": {
  "kernelspec": {
   "display_name": "diffusers",
   "language": "python",
   "name": "python3"
  },
  "language_info": {
   "codemirror_mode": {
    "name": "ipython",
    "version": 3
   },
   "file_extension": ".py",
   "mimetype": "text/x-python",
   "name": "python",
   "nbconvert_exporter": "python",
   "pygments_lexer": "ipython3",
   "version": "3.8.18"
  }
 },
 "nbformat": 4,
 "nbformat_minor": 2
}
